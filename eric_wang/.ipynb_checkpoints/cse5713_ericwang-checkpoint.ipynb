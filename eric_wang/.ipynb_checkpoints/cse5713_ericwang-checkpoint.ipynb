{
 "cells": [
  {
   "cell_type": "code",
   "execution_count": 1,
   "metadata": {},
   "outputs": [],
   "source": [
    "import gzip\n",
    "import shutil\n",
    "import os \n",
    "import pandas as pd\n",
    "import numpy as np\n",
    "import matplotlib as plt"
   ]
  },
  {
   "cell_type": "code",
   "execution_count": 2,
   "metadata": {},
   "outputs": [],
   "source": [
    "dir = r'C:\\Users\\Eric\\cse5713_data-mining-project\\eric_wang\\data'\n",
    "fileset = os.listdir(dir)"
   ]
  },
  {
   "cell_type": "code",
   "execution_count": 3,
   "metadata": {},
   "outputs": [],
   "source": [
    "# opening with gzip \n",
    "\n",
    "# with gzip.open('SM5075659_p007n.tsv.gz', 'rb') as f:\n",
    "#     tsv_file = f.read()\n",
    "#     df = csv.reader(tsv_file, delimiter=\"\\t\")\n",
    "# #     number_of_lines = 10\n",
    "\n",
    "# #     for i in range(number_of_lines):\n",
    "# #         line = read_tsv.readline()\n",
    "    \n",
    "# print(df)\n",
    "\n",
    "# opening all tsv files\n",
    "\n",
    "def file_to_df(fileset_directory, filename):\n",
    "    if file.endswith(\".tsv\"):\n",
    "        df=pd.read_csv(os.path.join(dir, file), sep='\\t')\n",
    "        return df\n",
    "    elif file.endswith(\".txt\"):\n",
    "        df=pd.read_csv(os.path.join(dir, file), sep='\\t')\n",
    "        return df\n",
    "    elif file.endswith(\".csv\"):\n",
    "        df=pd.read_csv(os.path.join(dir, file), sep=',')\n",
    "        return df\n",
    "    else:\n",
    "        raise ValueError\n",
    "        print(\"File Not TSV\")"
   ]
  },
  {
   "cell_type": "code",
   "execution_count": 4,
   "metadata": {},
   "outputs": [
    {
     "ename": "NameError",
     "evalue": "name 'dfs' is not defined",
     "output_type": "error",
     "traceback": [
      "\u001b[1;31m---------------------------------------------------------------------------\u001b[0m",
      "\u001b[1;31mNameError\u001b[0m                                 Traceback (most recent call last)",
      "\u001b[1;32m<ipython-input-4-6aeeea3aa9e9>\u001b[0m in \u001b[0;36m<module>\u001b[1;34m\u001b[0m\n\u001b[1;32m----> 1\u001b[1;33m \u001b[0mdfs\u001b[0m\u001b[1;33m[\u001b[0m\u001b[1;36m0\u001b[0m\u001b[1;33m]\u001b[0m\u001b[1;33m.\u001b[0m\u001b[0mhead\u001b[0m\u001b[1;33m(\u001b[0m\u001b[1;33m)\u001b[0m\u001b[1;33m\u001b[0m\u001b[1;33m\u001b[0m\u001b[0m\n\u001b[0m",
      "\u001b[1;31mNameError\u001b[0m: name 'dfs' is not defined"
     ]
    }
   ],
   "source": [
    "dfs[0].head()"
   ]
  },
  {
   "cell_type": "code",
   "execution_count": null,
   "metadata": {},
   "outputs": [],
   "source": [
    "df[1].head()"
   ]
  },
  {
   "cell_type": "code",
   "execution_count": null,
   "metadata": {},
   "outputs": [],
   "source": [
    "dfs['gene']"
   ]
  },
  {
   "cell_type": "code",
   "execution_count": null,
   "metadata": {},
   "outputs": [],
   "source": [
    "for i in df['gene']:\n",
    "   print(i)"
   ]
  },
  {
   "cell_type": "code",
   "execution_count": null,
   "metadata": {},
   "outputs": [],
   "source": [
    "with open(\"gene.txt\", \"w\") as txt:\n",
    "    for gene in df['gene']:\n",
    "        txt.write(str(gene)+'\\n')"
   ]
  }
 ],
 "metadata": {
  "kernelspec": {
   "display_name": "Python 3",
   "language": "python",
   "name": "python3"
  },
  "language_info": {
   "codemirror_mode": {
    "name": "ipython",
    "version": 3
   },
   "file_extension": ".py",
   "mimetype": "text/x-python",
   "name": "python",
   "nbconvert_exporter": "python",
   "pygments_lexer": "ipython3",
   "version": "3.7.4"
  }
 },
 "nbformat": 4,
 "nbformat_minor": 4
}
